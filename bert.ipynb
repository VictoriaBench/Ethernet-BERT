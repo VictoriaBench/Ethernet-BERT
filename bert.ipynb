{
 "cells": [
  {
   "cell_type": "code",
   "execution_count": null,
   "source": [
    "from receiver_raw import results, receive\n",
    "import threading\n",
    "\n",
    "\n",
    "\n",
    "receiver = threading.Thread(receive)\n",
    "receiver.start()\n",
    "\n",
    "\n"
   ],
   "outputs": [],
   "metadata": {}
  }
 ],
 "metadata": {
  "orig_nbformat": 4,
  "language_info": {
   "name": "python"
  }
 },
 "nbformat": 4,
 "nbformat_minor": 2
}
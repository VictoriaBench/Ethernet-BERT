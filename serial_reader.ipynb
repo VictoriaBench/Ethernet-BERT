{
 "cells": [
  {
   "cell_type": "code",
   "execution_count": null,
   "source": [
    "import serial\n",
    "import re\n",
    "from jupyterplot import ProgressPlot\n",
    "import json\n",
    "import math\n",
    "\n",
    "pp = ProgressPlot()\n",
    "i = 0\n",
    "with serial.Serial('/dev/ttyACM0', 115200, timeout=100) as ser:\n",
    "    ser.write(b\"RAW\\r\\n\")\n",
    "    \n",
    "    while True:\n",
    "        ser_bytes = ser.readline() \n",
    "        try:    \n",
    "            sfpData =json.loads(ser_bytes)\n",
    "        except:\n",
    "            continue\n",
    "        rxpower = sfpData[\"sfp0\"][\"RXuW\"]\n",
    "        rxpowerDB = 10 * math.log(rxpower * 0.001,10)\n",
    "        pp.update(rxpowerDB)\n",
    "           "
   ],
   "outputs": [],
   "metadata": {}
  }
 ],
 "metadata": {
  "orig_nbformat": 4,
  "language_info": {
   "name": "python"
  }
 },
 "nbformat": 4,
 "nbformat_minor": 2
}